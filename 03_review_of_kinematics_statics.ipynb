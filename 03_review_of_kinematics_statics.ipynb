{
 "cells": [
  {
   "cell_type": "markdown",
   "metadata": {},
   "source": [
    "# Review of robot kinematics and statics"
   ]
  },
  {
   "cell_type": "markdown",
   "metadata": {},
   "source": [
    "## A robot jumper as a planar manipulator\n",
    "\n",
    "![A jumping robot](jumper.png)\n",
    "\n",
    "Let's define some coordinate systems\n",
    "\n",
    "![](jumper_definitions.png)"
   ]
  },
  {
   "cell_type": "markdown",
   "metadata": {},
   "source": [
    "First our imports"
   ]
  },
  {
   "cell_type": "code",
   "execution_count": 1,
   "metadata": {},
   "outputs": [],
   "source": [
    "# symbolic computation tools\n",
    "import sympy\n",
    "from sympy import symbols, pprint\n",
    "from sympy import sin, cos, asin, acos, pi\n",
    "from sympy import Matrix\n",
    "\n",
    "import numpy as np\n",
    "\n",
    "from IPython import display # for the animation\n",
    "import matplotlib as mpl\n",
    "mpl.use('Qt5Agg')\n",
    "\n",
    "import matplotlib.pyplot as plt\n",
    "plt.ion()\n",
    "\n",
    "\n",
    "# styling for plots\n",
    "mpl.rcParams['axes.titlesize'] = 24\n",
    "mpl.rcParams['axes.labelsize'] = 20\n",
    "mpl.rcParams['lines.linewidth'] = 3\n",
    "mpl.rcParams['lines.markersize'] = 10\n",
    "mpl.rcParams['xtick.labelsize'] = 16\n",
    "mpl.rcParams['ytick.labelsize'] = 16\n",
    "    \n"
   ]
  },
  {
   "cell_type": "markdown",
   "metadata": {},
   "source": [
    "Define our symbolic variables that define our robot configuration"
   ]
  },
  {
   "cell_type": "code",
   "execution_count": 27,
   "metadata": {},
   "outputs": [],
   "source": [
    "# We wrap in parentheses here so we can write it on multiple lines. Similar\n",
    "# with the triple quotes on the string. Usually we don't need to use these things.\n",
    "(theta0_sym, \n",
    " theta1_sym, \n",
    " theta2_sym, \n",
    " link1_sym, \n",
    " link2_sym, \n",
    " link3_sym) = symbols(\"\"\" theta0_sym \n",
    "                         theta1_sym \n",
    "                         theta2_sym \n",
    "                         link1_sym \n",
    "                         link2_sym \n",
    "                         link3_sym \"\"\" , real = True)"
   ]
  },
  {
   "cell_type": "markdown",
   "metadata": {},
   "source": [
    "Let's define our homogeneous transformation matrix that applies a rotation and a translation to vectors and matrices"
   ]
  },
  {
   "cell_type": "code",
   "execution_count": 28,
   "metadata": {},
   "outputs": [],
   "source": [
    "def T(theta, x, y):\n",
    "    \"\"\"\n",
    "    Function to return an arbitrary transformation matrix \n",
    "    This is for sympy symbolic calculation\n",
    "    \"\"\"\n",
    "    return Matrix([[cos(theta), -sin(theta), x], \n",
    "                   [sin(theta), cos(theta), y],\n",
    "                   [0, 0, 1]])\n",
    "\n",
    "def sym_to_np(T):\n",
    "    return np.array(T).astype(np.float64)"
   ]
  },
  {
   "cell_type": "markdown",
   "metadata": {},
   "source": [
    "Define my transformation matrices for the links"
   ]
  },
  {
   "cell_type": "code",
   "execution_count": 29,
   "metadata": {},
   "outputs": [
    {
     "name": "stdout",
     "output_type": "stream",
     "text": [
      "Matrix([[cos(theta0_sym), -sin(theta0_sym), 0], [sin(theta0_sym), cos(theta0_sym), 0], [0, 0, 1]])\n",
      "Matrix([[cos(theta1_sym), -sin(theta1_sym), link1_sym], [sin(theta1_sym), cos(theta1_sym), 0], [0, 0, 1]])\n",
      "Matrix([[cos(theta2_sym), -sin(theta2_sym), link2_sym], [sin(theta2_sym), cos(theta2_sym), 0], [0, 0, 1]])\n"
     ]
    }
   ],
   "source": [
    "T_01 = T(theta0_sym, 0, 0)\n",
    "T_12 = T(theta1_sym, link1_sym, 0)\n",
    "T_23 = T(theta2_sym, link2_sym, 0)\n",
    "\n",
    "print(T_01)\n",
    "print(T_12)\n",
    "print(T_23)\n"
   ]
  },
  {
   "cell_type": "markdown",
   "metadata": {},
   "source": [
    "Define the point of the COM (x,y)"
   ]
  },
  {
   "cell_type": "code",
   "execution_count": 30,
   "metadata": {},
   "outputs": [
    {
     "data": {
      "text/plain": [
       "Matrix([\n",
       "[(-sin(theta0_sym)*sin(theta1_sym) + cos(theta0_sym)*cos(theta1_sym))*cos(theta2_sym) + (-sin(theta0_sym)*cos(theta1_sym) - sin(theta1_sym)*cos(theta0_sym))*sin(theta2_sym), -(-sin(theta0_sym)*sin(theta1_sym) + cos(theta0_sym)*cos(theta1_sym))*sin(theta2_sym) + (-sin(theta0_sym)*cos(theta1_sym) - sin(theta1_sym)*cos(theta0_sym))*cos(theta2_sym), link1_sym*cos(theta0_sym) + link2_sym*(-sin(theta0_sym)*sin(theta1_sym) + cos(theta0_sym)*cos(theta1_sym))],\n",
       "[ (-sin(theta0_sym)*sin(theta1_sym) + cos(theta0_sym)*cos(theta1_sym))*sin(theta2_sym) + (sin(theta0_sym)*cos(theta1_sym) + sin(theta1_sym)*cos(theta0_sym))*cos(theta2_sym),   (-sin(theta0_sym)*sin(theta1_sym) + cos(theta0_sym)*cos(theta1_sym))*cos(theta2_sym) - (sin(theta0_sym)*cos(theta1_sym) + sin(theta1_sym)*cos(theta0_sym))*sin(theta2_sym),  link1_sym*sin(theta0_sym) + link2_sym*(sin(theta0_sym)*cos(theta1_sym) + sin(theta1_sym)*cos(theta0_sym))],\n",
       "[                                                                                                                                                                          0,                                                                                                                                                                            0,                                                                                                          1]])"
      ]
     },
     "execution_count": 30,
     "metadata": {},
     "output_type": "execute_result"
    }
   ],
   "source": [
    "T_01*T_12*T_23"
   ]
  },
  {
   "cell_type": "markdown",
   "metadata": {},
   "source": [
    "Whoof, that is not very \"fun\" looking. What if we try to simplify"
   ]
  },
  {
   "cell_type": "code",
   "execution_count": 31,
   "metadata": {},
   "outputs": [
    {
     "data": {
      "text/plain": [
       "Matrix([\n",
       "[cos(theta0_sym + theta1_sym + theta2_sym), -sin(theta0_sym + theta1_sym + theta2_sym), link1_sym*cos(theta0_sym) + link2_sym*cos(theta0_sym + theta1_sym)],\n",
       "[sin(theta0_sym + theta1_sym + theta2_sym),  cos(theta0_sym + theta1_sym + theta2_sym), link1_sym*sin(theta0_sym) + link2_sym*sin(theta0_sym + theta1_sym)],\n",
       "[                                        0,                                          0,                                                                  1]])"
      ]
     },
     "execution_count": 31,
     "metadata": {},
     "output_type": "execute_result"
    }
   ],
   "source": [
    "sympy.simplify(T_01*T_12*T_23)"
   ]
  },
  {
   "cell_type": "markdown",
   "metadata": {},
   "source": [
    "This makes much more sense, in fact it is exactly what we would have arrived at if we would have just written down the point (x,y) as a vector addition of the links. __But, what is critical to recognize is that by using the transformation matrices we can construct the point (x,y) in any frame we want by chaining together the appropriate matrices__\n",
    "\n",
    "Let's draw our robot in different configurations"
   ]
  },
  {
   "cell_type": "code",
   "execution_count": 32,
   "metadata": {},
   "outputs": [],
   "source": [
    "def draw_robot(ordered_list_of_transformations):\n",
    "    \"\"\"\n",
    "    Draw the configuration of the three-link jumper.\n",
    "    \"\"\"\n",
    "\n",
    "\n",
    "    # homogeneous unit vectors \n",
    "    x = np.array([[1, 0, 1]]).T \n",
    "    y = np.array([[0, 1, 1]]).T\n",
    "    origin = np.array([[0, 0, 1]]).T\n",
    "\n",
    "    prev_origin = np.array([[0, 0, 1]]).T    \n",
    "    current_transformation = np.eye(3)\n",
    "\n",
    "    plt.clf()\n",
    "    ax = plt.gca()  # get current axis\n",
    "\n",
    "    # now we plot\n",
    "    plt.plot([prev_origin[0][0]], [prev_origin[1][0]], '-ko')\n",
    "    plt.plot([prev_origin[0][0], x[0][0]], [prev_origin[1][0], x[1][0]], '-ro')\n",
    "    plt.plot([prev_origin[0][0], y[0][0]], [prev_origin[1][0], y[1][0]], '-go')\n",
    "\n",
    "\n",
    "    # loop the transforms in order of T_01, T_12, ... , T_N-1N\n",
    "    for k, transform in enumerate(ordered_list_of_transformations):\n",
    "\n",
    "        # update the transformation\n",
    "        current_transformation = current_transformation @ transform\n",
    "        new_origin = current_transformation @ origin\n",
    "        new_x = current_transformation @ x\n",
    "        new_y = current_transformation @ y\n",
    "\n",
    "        # now we plot\n",
    "        plt.plot([new_origin[0][0], new_x[0][0]], [new_origin[1][0], new_x[1][0]], '-r')\n",
    "        plt.plot([new_origin[0][0], new_y[0][0]], [new_origin[1][0], new_y[1][0]], '-g')\n",
    "        plt.plot([prev_origin[0][0], new_origin[0][0]], [prev_origin[1][0], new_origin[1][0]], '-ko')\n",
    "\n",
    "\n",
    "#         ax.annotate('{'+str(k+1)+'}', xy=new_origin[0:2][0], xytext=new_origin[0:2][0])\n",
    "\n",
    "        # lastly update the current_origin to the new_origin\n",
    "        prev_origin = new_origin\n",
    "\n",
    "    # lastly set the axes to be equal and appropriate\n",
    "    ax.set_aspect('equal')\n",
    "    ax.set_xlabel('x')\n",
    "    ax.set_ylabel('y')    "
   ]
  },
  {
   "cell_type": "code",
   "execution_count": 33,
   "metadata": {},
   "outputs": [
    {
     "data": {
      "text/plain": [
       "<Figure size 1600x1572 with 1 Axes>"
      ]
     },
     "execution_count": 33,
     "metadata": {},
     "output_type": "execute_result"
    }
   ],
   "source": [
    "theta0 = 20 * np.pi/180 \n",
    "theta1 = 140 * np.pi/180\n",
    "theta2 = -90 * np.pi/180\n",
    "link1 = 10\n",
    "link2 = 20\n",
    "link3 = 5\n",
    "\n",
    "# T_01_real = T_np(theta0, 0, 0)\n",
    "# T_12_real = T_np(theta1, link1, 0)\n",
    "# T_23_real = T_np(theta2, link2, 0)\n",
    "# T_34_real = T_np(0, link3, 0)\n",
    "\n",
    "# # 'subs' substitutes in the numeric value for the variable, evalf evaluates the expression \n",
    "T_01_real = sym_to_np(T_01.subs([(theta0_sym, theta0)]))\n",
    "T_12_real = sym_to_np(T_12.subs([(theta1_sym, theta1), (link1_sym, link1)]))\n",
    "T_23_real = sym_to_np(T_23.subs([(theta2_sym, theta2), (link2_sym, link2)]))\n",
    "T_34_real = sym_to_np(T(0, link3, 0))\n",
    "\n",
    "plt.figure(figsize = (8,8))\n",
    "draw_robot([T_01_real, T_12_real, T_23_real, T_34_real])\n",
    "\n",
    "# sc = 25\n",
    "# plt.axis([-sc,sc, -sc, sc])\n",
    "\n",
    "plt.gcf()\n"
   ]
  },
  {
   "cell_type": "markdown",
   "metadata": {},
   "source": [
    "Let's make an animation"
   ]
  },
  {
   "cell_type": "code",
   "execution_count": 9,
   "metadata": {},
   "outputs": [],
   "source": [
    "# final joint vals to arrive at\n",
    "theta0 = 10 * np.pi/180 \n",
    "theta1 = 70 * np.pi/180\n",
    "theta2 = 90 * np.pi/180\n",
    "link1 = 10\n",
    "link2 = 20\n",
    "link3 = 5\n",
    "\n",
    "theta0_time = np.linspace(0, theta0, 50)\n",
    "theta1_time = np.linspace(0, theta1, 50)\n",
    "theta2_time = np.linspace(0, theta2, 50)\n",
    "\n",
    "fig = plt.figure(figsize = (8,8))\n",
    "\n",
    "for theta0_current, theta1_current, theta2_current in zip(theta0_time, theta1_time, theta2_time):\n",
    "    # make t matrices\n",
    "    T_01_real = sym_to_np(T_01.subs([(theta0_sym, theta0_current)]))\n",
    "    T_12_real = sym_to_np(T_12.subs([(theta1_sym, theta1_current), (link1_sym, link1)]))\n",
    "    T_23_real = sym_to_np(T_23.subs([(theta2_sym, theta2_current), (link2_sym, link2)]))\n",
    "    T_34_real = sym_to_np(T(0, link3, 0))\n",
    "    \n",
    "    draw_robot([T_01_real, T_12_real, T_23_real, T_34_real])\n",
    "    sc = 25\n",
    "    plt.axis([-5,40, -5, 40])\n",
    "    plt.draw()\n",
    "    plt.pause(0.01)\n",
    "\n",
    "    # Update the named display with a new figure\n",
    "#     display.clear_output(wait=True)\n",
    "#     display.display(plt.gcf())\n"
   ]
  },
  {
   "cell_type": "markdown",
   "metadata": {},
   "source": [
    "__OK__, cool. But what was the point of this? Oh, yes we would like to be able to move our robot from a crouched configuration to a extended leg configuration as fast as possible. And more specifically, we would like to understand what the joint torques required to do this motion.\n",
    "\n",
    "For this we need to dive into the jacobian\n"
   ]
  },
  {
   "cell_type": "code",
   "execution_count": 34,
   "metadata": {},
   "outputs": [
    {
     "data": {
      "text/plain": [
       "Matrix([\n",
       "[cos(theta0_sym + theta1_sym + theta2_sym), -sin(theta0_sym + theta1_sym + theta2_sym), link1_sym*cos(theta0_sym) + link2_sym*cos(theta0_sym + theta1_sym) + link3_sym*cos(theta0_sym + theta1_sym + theta2_sym)],\n",
       "[sin(theta0_sym + theta1_sym + theta2_sym),  cos(theta0_sym + theta1_sym + theta2_sym), link1_sym*sin(theta0_sym) + link2_sym*sin(theta0_sym + theta1_sym) + link3_sym*sin(theta0_sym + theta1_sym + theta2_sym)],\n",
       "[                                        0,                                          0,                                                                                                                        1]])"
      ]
     },
     "execution_count": 34,
     "metadata": {},
     "output_type": "execute_result"
    }
   ],
   "source": [
    "# x,y expressed in terms of the three joints and the three link lengths\n",
    "T_01 = T(theta0_sym, 0, 0)\n",
    "T_12 = T(theta1_sym, link1_sym, 0)\n",
    "T_23 = T(theta2_sym, link2_sym, 0)\n",
    "\n",
    "full_transformation = T_01*T_12*T_23*T(0,link3_sym,0)\n",
    "full_transformation = sympy.simplify(full_transformation)\n",
    "full_transformation"
   ]
  },
  {
   "cell_type": "markdown",
   "metadata": {},
   "source": [
    "The jacobian is defined as \n",
    "\n",
    "$$J = \\begin{bmatrix}\n",
    "\\frac{\\partial f_0}{\\partial x_0} \\dots \\frac{\\partial f_0}{\\partial x_n} \\\\\n",
    "\\vdots \\ddots \\vdots \\\\\n",
    "\\frac{\\partial f_m}{\\partial x_0} \\dots \\frac{\\partial f_m}{\\partial x_n} \\\\\n",
    "\\end{bmatrix}\n",
    "$$\n",
    "\n",
    "and in the context of robot manipulators (and jumpers) it is used to relate the velocities of the joints with the velocity of a point on the robot (often the end-effector). $$ \\dot{\\mathbf{x}} = J \\dot{\\mathbf{q}} $$\n",
    "\n",
    "where $ q = [\\theta_0, \\theta_1, \\dots, \\theta_n]^\\intercal $ is the robot configuration. "
   ]
  },
  {
   "cell_type": "code",
   "execution_count": 35,
   "metadata": {},
   "outputs": [
    {
     "name": "stdout",
     "output_type": "stream",
     "text": [
      "⎡link_1_sym⋅cos(θ_0_sym) + link_2_sym⋅cos(θ_0_sym + θ_1_sym) + link_3_sym⋅cos(θ_0_sym + θ_1_sym + θ_2_sym)⎤\n",
      "⎢                                                                                                         ⎥\n",
      "⎣link_1_sym⋅sin(θ_0_sym) + link_2_sym⋅sin(θ_0_sym + θ_1_sym) + link_3_sym⋅sin(θ_0_sym + θ_1_sym + θ_2_sym)⎦\n",
      "\n",
      "\n",
      " JACOBIAN MATRIX \n",
      "⎡-link_1_sym⋅sin(θ_0_sym) - link_2_sym⋅sin(θ_0_sym + θ_1_sym) - link_3_sym⋅sin(θ_0_sym + θ_1_sym + θ_2_sym)  -link_2_sym⋅sin(θ_0_sym + θ_1_sym) - link_3_sym⋅sin(θ_0_sym + θ_1_sym + θ_2_sym)  -link_3_sym⋅sin(θ_0_sym + θ_1_sym + θ_2_sym)⎤\n",
      "⎢                                                                                                                                                                                                                                          ⎥\n",
      "⎣link_1_sym⋅cos(θ_0_sym) + link_2_sym⋅cos(θ_0_sym + θ_1_sym) + link_3_sym⋅cos(θ_0_sym + θ_1_sym + θ_2_sym)   link_2_sym⋅cos(θ_0_sym + θ_1_sym) + link_3_sym⋅cos(θ_0_sym + θ_1_sym + θ_2_sym)   link_3_sym⋅cos(θ_0_sym + θ_1_sym + θ_2_sym) ⎦\n"
     ]
    }
   ],
   "source": [
    "\n",
    "# first generate the equations for the position of the end mass. Can be by simply multiplying full_transform by [0, 0, 1].T\n",
    "xyz_position = full_transformation @ np.array([[0,0,1]]).T\n",
    "xyz_position = xyz_position[:2,:].simplify() # make simple\n",
    "\n",
    "pprint(xyz_position, wrap_line = False)\n",
    "\n",
    "J = xyz_position.jacobian([theta0_sym, theta1_sym, theta2_sym])\n",
    "\n",
    "# for k in range(2):\n",
    "#     J.append([])\n",
    "#     J[k].append(xyz_position[k].diff(theta0_sym))\n",
    "#     J[k].append(xyz_position[k].diff(theta1_sym))\n",
    "#     J[k].append(xyz_position[k].diff(theta2_sym))\n",
    "\n",
    "# J = Matrix(J)\n",
    "J.simplify()\n",
    "\n",
    "print(\"\\r\\n\\r\\n JACOBIAN MATRIX \")\n",
    "pprint(J, wrap_line = False)"
   ]
  },
  {
   "cell_type": "code",
   "execution_count": 36,
   "metadata": {},
   "outputs": [
    {
     "name": "stdout",
     "output_type": "stream",
     "text": [
      "(2, 3)\n"
     ]
    }
   ],
   "source": [
    "print(J.shape)"
   ]
  },
  {
   "cell_type": "markdown",
   "metadata": {},
   "source": [
    "Note that the Jacobian is $m \\times n$ in size where $n$ is the number of configuration variables and $m$ is the number of position variables we are tracking. The Jacobian transforms the rate of joint velocities into the rate of change of the output position and thus for any planay manipulator the Jacobian will alwyas be $2 \\times n$ where $n$ is the number of joints in the manipulator. "
   ]
  },
  {
   "cell_type": "markdown",
   "metadata": {},
   "source": [
    "### Deriving the joints positions to command over time to jump along a defined straight line\n",
    "\n",
    "First, imagine that link3 was of length 0 and so this was really only a two-link jumper with the mass concentrated at the end of link2. In this case the configuration variables would be $q = [\\theta_0,  \\theta_1]$ and the jacobian would be a square matrix representing the relationship \n",
    "\n",
    "$$ [\\dot{x}, \\dot{y}]^T = J [\\dot{\\theta_0}, \\dot{\\theta_1}]^T $$\n",
    "\n",
    "Since the Jacobian was square we could attempt to invert it and solve for the unknown joint velocities if we had a desired velocity, $v_{des}$\n",
    "\n",
    "$$ J^{-1} v_{des} = [\\dot{\\theta_0}, \\dot{\\theta_1}]^T$$\n"
   ]
  },
  {
   "cell_type": "code",
   "execution_count": 37,
   "metadata": {},
   "outputs": [
    {
     "name": "stdout",
     "output_type": "stream",
     "text": [
      "⎡link_1_sym⋅cos(θ_0_sym) + link_2_sym⋅cos(θ_0_sym + θ_1_sym)⎤\n",
      "⎢                                                           ⎥\n",
      "⎢link_1_sym⋅sin(θ_0_sym) + link_2_sym⋅sin(θ_0_sym + θ_1_sym)⎥\n",
      "⎢                                                           ⎥\n",
      "⎣                             1                             ⎦\n"
     ]
    }
   ],
   "source": [
    "# make link3 = 0\n",
    "full_transformation_two_link = T_01*T_12*T_23*T(0,0,0)\n",
    "full_transformation_two_link = sympy.simplify(full_transformation_two_link)\n",
    "\n",
    "# get FK\n",
    "xyz_position_two_link = full_transformation_two_link*np.array([[0,0,1]]).T\n",
    "xyz_position_two_link.simplify() # make simple\n",
    "pprint(xyz_position_two_link)"
   ]
  },
  {
   "cell_type": "markdown",
   "metadata": {},
   "source": [
    "We see above that by making link3 length = 0,  $\\theta_3$ naturally drops out of the forward kinematics"
   ]
  },
  {
   "cell_type": "code",
   "execution_count": 38,
   "metadata": {},
   "outputs": [
    {
     "data": {
      "text/plain": [
       "Matrix([\n",
       "[-link1_sym*sin(theta0_sym) - link2_sym*sin(theta0_sym + theta1_sym), -link2_sym*sin(theta0_sym + theta1_sym), 0],\n",
       "[ link1_sym*cos(theta0_sym) + link2_sym*cos(theta0_sym + theta1_sym),  link2_sym*cos(theta0_sym + theta1_sym), 0]])"
      ]
     },
     "execution_count": 38,
     "metadata": {},
     "output_type": "execute_result"
    }
   ],
   "source": [
    "J = xyz_position_two_link[:2,:].jacobian([theta0_sym, theta1_sym, theta2_sym])\n",
    "J"
   ]
  },
  {
   "cell_type": "markdown",
   "metadata": {},
   "source": [
    "Note now the last column is 0, which corresponds with our choice not to monitor $\\theta_{3}$ so we can drop this"
   ]
  },
  {
   "cell_type": "code",
   "execution_count": 39,
   "metadata": {},
   "outputs": [
    {
     "name": "stdout",
     "output_type": "stream",
     "text": [
      "(2, 2)\n"
     ]
    },
    {
     "data": {
      "text/plain": [
       "Matrix([\n",
       "[(link2_sym*(-link1_sym*sin(theta0_sym) - link2_sym*sin(theta0_sym + theta1_sym))*cos(theta0_sym + theta1_sym) + link2_sym*(-link1_sym*cos(theta0_sym) - link2_sym*cos(theta0_sym + theta1_sym))*sin(theta0_sym + theta1_sym) + link2_sym*(link1_sym*cos(theta0_sym) + link2_sym*cos(theta0_sym + theta1_sym))*sin(theta0_sym + theta1_sym))/((-link1_sym*sin(theta0_sym) - link2_sym*sin(theta0_sym + theta1_sym))*(link2_sym*(-link1_sym*sin(theta0_sym) - link2_sym*sin(theta0_sym + theta1_sym))*cos(theta0_sym + theta1_sym) + link2_sym*(link1_sym*cos(theta0_sym) + link2_sym*cos(theta0_sym + theta1_sym))*sin(theta0_sym + theta1_sym))),                                link2_sym*sin(theta0_sym + theta1_sym)/(link2_sym*(-link1_sym*sin(theta0_sym) - link2_sym*sin(theta0_sym + theta1_sym))*cos(theta0_sym + theta1_sym) + link2_sym*(link1_sym*cos(theta0_sym) + link2_sym*cos(theta0_sym + theta1_sym))*sin(theta0_sym + theta1_sym))],\n",
       "[                                                                                                                                                                                                                                                                                                                                              (-link1_sym*cos(theta0_sym) - link2_sym*cos(theta0_sym + theta1_sym))/(link2_sym*(-link1_sym*sin(theta0_sym) - link2_sym*sin(theta0_sym + theta1_sym))*cos(theta0_sym + theta1_sym) + link2_sym*(link1_sym*cos(theta0_sym) + link2_sym*cos(theta0_sym + theta1_sym))*sin(theta0_sym + theta1_sym)), (-link1_sym*sin(theta0_sym) - link2_sym*sin(theta0_sym + theta1_sym))/(link2_sym*(-link1_sym*sin(theta0_sym) - link2_sym*sin(theta0_sym + theta1_sym))*cos(theta0_sym + theta1_sym) + link2_sym*(link1_sym*cos(theta0_sym) + link2_sym*cos(theta0_sym + theta1_sym))*sin(theta0_sym + theta1_sym))]])"
      ]
     },
     "execution_count": 39,
     "metadata": {},
     "output_type": "execute_result"
    }
   ],
   "source": [
    "J = J[:,0:2]\n",
    "pprint(J.shape)\n",
    "\n",
    "J_inv = J.inv()\n",
    "J_inv.simplify()\n",
    "J_inv"
   ]
  },
  {
   "cell_type": "markdown",
   "metadata": {},
   "source": [
    "Now we can attempt to use the Jacobian to specify the joint velocities for a given take off velocity"
   ]
  },
  {
   "cell_type": "code",
   "execution_count": null,
   "metadata": {},
   "outputs": [],
   "source": [
    "\n",
    "J_links = J.subs([(link1_sym, link1), (link2_sym, link2), (link3_sym, link3)]).evalf()\n",
    "J_inv = J_links.inv()\n",
    "\n",
    "v_desired = np.array([[1, 2]]).T #45 degree jump\n",
    "\n",
    "# start in crouched position \n",
    "theta0_current = 40*np.pi/180\n",
    "theta1_current = 150*np.pi/180\n",
    "theta2_current = 270*np.pi/180\n",
    "\n",
    "# 'subs' substitutes in the numeric value for the variable, evalf evaluates the expression \n",
    "T_01_real = sym_to_np(T_01.subs([(theta0_sym, theta0_current)]))\n",
    "T_12_real = sym_to_np(T_12.subs([(theta1_sym, theta1_current), (link1_sym, link1)]))\n",
    "T_23_real = sym_to_np(T_23.subs([(theta2_sym, theta2_current), (link2_sym, link2)]))\n",
    "\n",
    "plt.figure(0,figsize = (8,8))\n",
    "draw_robot([T_01_real, T_12_real, T_23_real])\n",
    "\n",
    "start_xy = sym_to_np(T_01_real @ T_12_real @ T_23_real @ np.array([[0,0,1]]).T)\n",
    "\n",
    "# step size\n",
    "eps = 0.05\n",
    "for k in range(500):\n",
    "        \n",
    "    # for drawing\n",
    "    T_01_real = sym_to_np(T_01.subs([(theta0_sym, theta0_current)]))\n",
    "    T_12_real = sym_to_np(T_12.subs([(theta1_sym, theta1_current), (link1_sym, link1)]))\n",
    "    T_23_real = sym_to_np(T_23.subs([(theta2_sym, theta2_current), (link2_sym, link2)]))\n",
    "\n",
    "\n",
    "    draw_robot([T_01_real, T_12_real, T_23_real])\n",
    "    sc = 25\n",
    "    plt.axis([-sc,sc, -1, sc])\n",
    "    plt.plot([start_xy[0][0], start_xy[0][0]+v_desired[0][0]*100], \n",
    "             [start_xy[1][0], start_xy[1][0]+v_desired[1][0]*100], '--')\n",
    "\n",
    "    plt.draw()\n",
    "    plt.pause(0.01)\n",
    "    \n",
    "    # update\n",
    "    J_inv_current = J_inv.subs([(theta0_sym, theta0_current),(theta1_sym, theta1_current)])\n",
    "    \n",
    "    # compute next motion\n",
    "    delta_q = J_inv_current * v_desired\n",
    "    \n",
    "    theta0_current = theta0_current + delta_q[0]*eps\n",
    "    theta1_current = theta1_current + delta_q[1]*eps\n",
    "    \n"
   ]
  },
  {
   "cell_type": "markdown",
   "metadata": {},
   "source": [
    "## Full pose tracking of the COM position and orientation using the jacobian"
   ]
  },
  {
   "cell_type": "markdown",
   "metadata": {},
   "source": [
    "Now imagine $l_3$ is not 0, then we can track both the position and orientation of the COM and body. The forward kinematics now need to generate \n",
    "\n",
    "$$f(\\theta_1, \\theta_2, \\theta_3) = [x_{COM}, y_{COM}, \\theta_{COM}]^T$$\n",
    "\n",
    "and thus the jacobian equation will be \n",
    "\n",
    "$$[\\dot{x}_{COM}, \\dot{y}_{COM}, \\dot{\\theta}_{COM}]^T = \\mathbf{J} ~ [\\dot{\\theta}_0, \\dot{\\theta}_1, \\dot{\\theta}_2]^T $$\n",
    "\n",
    "Note $\\theta_{COM} = \\theta_0 + \\theta_1 + \\theta_2$"
   ]
  },
  {
   "cell_type": "code",
   "execution_count": 52,
   "metadata": {},
   "outputs": [
    {
     "data": {
      "text/plain": [
       "Matrix([\n",
       "[link1_sym*cos(theta0_sym) + link2_sym*cos(theta0_sym + theta1_sym) + link3_sym*cos(theta0_sym + theta1_sym + theta2_sym)],\n",
       "[link1_sym*sin(theta0_sym) + link2_sym*sin(theta0_sym + theta1_sym) + link3_sym*sin(theta0_sym + theta1_sym + theta2_sym)],\n",
       "[                                                                                    theta0_sym + theta1_sym + theta2_sym]])"
      ]
     },
     "execution_count": 52,
     "metadata": {},
     "output_type": "execute_result"
    }
   ],
   "source": [
    "full_transformation = sympy.simplify(full_transformation)\n",
    "xyz_position_two_link = full_transformation @ np.array([[0,0,1]]).T\n",
    "# print(xyz_position_two_link)\n",
    "\n",
    "forward_kin = Matrix([xyz_position_two_link[0,0], xyz_position_two_link[1,0], theta0_sym + theta1_sym + theta2_sym])\n",
    "forward_kin"
   ]
  },
  {
   "cell_type": "code",
   "execution_count": 56,
   "metadata": {},
   "outputs": [
    {
     "data": {
      "text/plain": [
       "Matrix([\n",
       "[-link1_sym*sin(theta0_sym) - link2_sym*sin(theta0_sym + theta1_sym) - link3_sym*sin(theta0_sym + theta1_sym + theta2_sym), -link2_sym*sin(theta0_sym + theta1_sym) - link3_sym*sin(theta0_sym + theta1_sym + theta2_sym), -link3_sym*sin(theta0_sym + theta1_sym + theta2_sym)],\n",
       "[ link1_sym*cos(theta0_sym) + link2_sym*cos(theta0_sym + theta1_sym) + link3_sym*cos(theta0_sym + theta1_sym + theta2_sym),  link2_sym*cos(theta0_sym + theta1_sym) + link3_sym*cos(theta0_sym + theta1_sym + theta2_sym),  link3_sym*cos(theta0_sym + theta1_sym + theta2_sym)],\n",
       "[                                                                                                                        1,                                                                                             1,                                                    1]])"
      ]
     },
     "execution_count": 56,
     "metadata": {},
     "output_type": "execute_result"
    }
   ],
   "source": [
    "J = forward_kin.jacobian([theta0_sym, theta1_sym, theta2_sym])\n",
    "J"
   ]
  },
  {
   "cell_type": "code",
   "execution_count": 63,
   "metadata": {},
   "outputs": [],
   "source": [
    "\n",
    "J_links = J.subs([(link1_sym, link1), (link2_sym, link2), (link3_sym, link3)]).evalf()\n",
    "J_inv = J_links.inv()\n",
    "\n",
    "v_desired = np.array([[1, 2, 0]]).T #Don't rotate body COM\n",
    "\n",
    "# start in crouched position \n",
    "theta0_current = 40*np.pi/180\n",
    "theta1_current = 150*np.pi/180\n",
    "theta2_current = 270*np.pi/180\n",
    "\n",
    "# 'subs' substitutes in the numeric value for the variable, evalf evaluates the expression \n",
    "T_01_real = sym_to_np(T_01.subs([(theta0_sym, theta0_current)]))\n",
    "T_12_real = sym_to_np(T_12.subs([(theta1_sym, theta1_current), (link1_sym, link1)]))\n",
    "T_23_real = sym_to_np(T_23.subs([(theta2_sym, theta2_current), (link2_sym, link2)]))\n",
    "\n",
    "plt.figure(0,figsize = (8,8))\n",
    "draw_robot([T_01_real, T_12_real, T_23_real])\n",
    "\n",
    "start_xy = sym_to_np(T_01_real @ T_12_real @ T_23_real @ np.array([[0,0,1]]).T)\n",
    "\n",
    "# step size\n",
    "eps = 0.05\n",
    "for k in range(500):\n",
    "        \n",
    "    # for drawing\n",
    "    T_01_real = sym_to_np(T_01.subs([(theta0_sym, theta0_current)]))\n",
    "    T_12_real = sym_to_np(T_12.subs([(theta1_sym, theta1_current), (link1_sym, link1)]))\n",
    "    T_23_real = sym_to_np(T_23.subs([(theta2_sym, theta2_current), (link2_sym, link2)]))\n",
    "    T_34_real = sym_to_np(T(0, link3, 0))\n",
    "\n",
    "    draw_robot([T_01_real, T_12_real, T_23_real, T_34_real])\n",
    "    sc = 25\n",
    "    plt.axis([-sc,sc, -1, sc])\n",
    "    plt.plot([start_xy[0][0], start_xy[0][0]+v_desired[0][0]*100], \n",
    "             [start_xy[1][0], start_xy[1][0]+v_desired[1][0]*100], '--')\n",
    "\n",
    "    plt.draw()\n",
    "    plt.pause(0.01)\n",
    "    \n",
    "    # update\n",
    "    J_inv_current = J_inv.subs([(theta0_sym, theta0_current),(theta1_sym, theta1_current), (theta2_sym, theta2_current)])\n",
    "    \n",
    "    # compute next motion\n",
    "    delta_q = J_inv_current * v_desired\n",
    "    \n",
    "    theta0_current = theta0_current + delta_q[0]*eps\n",
    "    theta1_current = theta1_current + delta_q[1]*eps\n",
    "    theta2_current = theta2_current + delta_q[2]*eps\n"
   ]
  },
  {
   "cell_type": "code",
   "execution_count": null,
   "metadata": {},
   "outputs": [],
   "source": []
  }
 ],
 "metadata": {
  "kernelspec": {
   "display_name": "Python 3",
   "language": "python",
   "name": "python3"
  },
  "language_info": {
   "codemirror_mode": {
    "name": "ipython",
    "version": 3
   },
   "file_extension": ".py",
   "mimetype": "text/x-python",
   "name": "python",
   "nbconvert_exporter": "python",
   "pygments_lexer": "ipython3",
   "version": "3.6.5"
  }
 },
 "nbformat": 4,
 "nbformat_minor": 2
}
